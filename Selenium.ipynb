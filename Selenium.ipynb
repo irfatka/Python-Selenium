{
 "cells": [
  {
   "cell_type": "code",
   "execution_count": 1,
   "metadata": {},
   "outputs": [],
   "source": [
    "import random\n",
    "import urllib.request\n",
    "from selenium import webdriver\n",
    "import selenium.webdriver.common.keys"
   ]
  },
  {
   "cell_type": "markdown",
   "metadata": {},
   "source": [
    "### The below function search_by_keyword() will allow user to enter a keyword and search for a specific image related to keyword on Google Images."
   ]
  },
  {
   "cell_type": "code",
   "execution_count": 2,
   "metadata": {},
   "outputs": [],
   "source": [
    "def search_by_keyword():\n",
    "    keyword=input(\"Enter a keyword:\")\n",
    "    driver = webdriver.Chrome(\"C:\\\\Users\\\\Admin\\\\Downloads\\\\chromedriver.exe\")\n",
    "    url=driver.get(\"https://www.google.com/imghp\")\n",
    "    driver.find_element_by_name(\"q\").send_keys(keyword)\n",
    "    driver.find_element_by_name(\"q\").send_keys(u'\\ue007')\n",
    "    "
   ]
  },
  {
   "cell_type": "code",
   "execution_count": 6,
   "metadata": {},
   "outputs": [
    {
     "name": "stdout",
     "output_type": "stream",
     "text": [
      "Enter a keyword:rose\n"
     ]
    }
   ],
   "source": [
    "search_by_keyword()"
   ]
  },
  {
   "cell_type": "markdown",
   "metadata": {},
   "source": [
    "### The below function download_image(url), takes image url as a parameter. Once you are done with search_by_keyword(), choose any image you wish to download and copy its image url and pass the url to download_image() function."
   ]
  },
  {
   "cell_type": "code",
   "execution_count": 4,
   "metadata": {},
   "outputs": [],
   "source": [
    "def download_image(url):    \n",
    "    name=random.randrange(1,5000)\n",
    "    full_name=str(name)+\".jpg\"\n",
    "    urllib.request.urlretrieve(url,full_name)"
   ]
  },
  {
   "cell_type": "code",
   "execution_count": 8,
   "metadata": {},
   "outputs": [],
   "source": [
    "download_image(\"data:image/jpeg;base64,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\")"
   ]
  }
 ],
 "metadata": {
  "kernelspec": {
   "display_name": "Python 3",
   "language": "python",
   "name": "python3"
  },
  "language_info": {
   "codemirror_mode": {
    "name": "ipython",
    "version": 3
   },
   "file_extension": ".py",
   "mimetype": "text/x-python",
   "name": "python",
   "nbconvert_exporter": "python",
   "pygments_lexer": "ipython3",
   "version": "3.7.3"
  }
 },
 "nbformat": 4,
 "nbformat_minor": 2
}
