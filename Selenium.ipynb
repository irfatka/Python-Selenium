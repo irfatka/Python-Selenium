{
 "cells": [
  {
   "cell_type": "code",
   "execution_count": 1,
   "metadata": {},
   "outputs": [],
   "source": [
    "import random\n",
    "import urllib.request\n",
    "from selenium import webdriver\n",
    "import selenium.webdriver.common.keys"
   ]
  },
  {
   "cell_type": "markdown",
   "metadata": {},
   "source": [
    "### The below function search_by_keyword() will allow user to enter a keyword and search for a specific image related to keyword on Google Images."
   ]
  },
  {
   "cell_type": "code",
   "execution_count": 2,
   "metadata": {},
   "outputs": [],
   "source": [
    "def search_by_keyword():\n",
    "    keyword=input(\"Enter a keyword:\")\n",
    "    driver = webdriver.Chrome(\"C:\\\\Users\\\\Admin\\\\Downloads\\\\chromedriver.exe\")\n",
    "    url=driver.get(\"https://www.google.com/imghp\")\n",
    "    driver.find_element_by_name(\"q\").send_keys(keyword)\n",
    "    driver.find_element_by_name(\"q\").send_keys(u'\\ue007')\n",
    "    "
   ]
  },
  {
   "cell_type": "code",
   "execution_count": 6,
   "metadata": {},
   "outputs": [
    {
     "name": "stdout",
     "output_type": "stream",
     "text": [
      "Enter a keyword:rose\n"
     ]
    }
   ],
   "source": [
    "search_by_keyword()"
   ]
  },
  {
   "cell_type": "markdown",
   "metadata": {},
   "source": [
    "### The below function download_image(url), takes image url as a parameter. Once you are done with search_by_keyword(), choose any image you wish to download and copy its image url and pass the url to download_image() function."
   ]
  },
  {
   "cell_type": "code",
   "execution_count": 4,
   "metadata": {},
   "outputs": [],
   "source": [
    "def download_image(url):    \n",
    "    name=random.randrange(1,5000)\n",
    "    full_name=str(name)+\".jpg\"\n",
    "    urllib.request.urlretrieve(url,full_name)"
   ]
  }
 ],
 "metadata": {
  "kernelspec": {
   "display_name": "Python 3",
   "language": "python",
   "name": "python3"
  },
  "language_info": {
   "codemirror_mode": {
    "name": "ipython",
    "version": 3
   },
   "file_extension": ".py",
   "mimetype": "text/x-python",
   "name": "python",
   "nbconvert_exporter": "python",
   "pygments_lexer": "ipython3",
   "version": "3.7.3"
  }
 },
 "nbformat": 4,
 "nbformat_minor": 2
}
